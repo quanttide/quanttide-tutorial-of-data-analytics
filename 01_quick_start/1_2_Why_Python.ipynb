{
 "cells": [
  {
   "cell_type": "markdown",
   "metadata": {
    "collapsed": true,
    "pycharm": {
     "name": "#%% md\n"
    }
   },
   "source": [
    "# 1.2  为什么使用Python做数据分析？\n"
   ]
  },
  {
   "cell_type": "markdown",
   "source": [
    "## 本讲大纲\n",
    "\n",
    "本讲草稿：\n",
    "1. 数据分析相关的核心库又多又好用；\n",
    "2. 外围库支持又多又好用，工程化容易；（写爬虫，写Web应用，各种数据处理包，各种数据库接口）\n",
    "3. 强大的胶水性能，统一所有分析工具的优点；（调用Julia、R、Stata、Matlab等）\n",
    "4. 好学好写，语法简单优雅，可读性强。\n",
    "\n",
    "\n",
    "## 数据分析库\n",
    "\n",
    "各种秀操作\n",
    "- 秀NumPy和Pandas，碾压Matlab和R\n",
    "- SciPy和SymPy意想不到的高性能，对比Matlab和Mathematica\n",
    "- Sklearn做机器学习，标准工具\n",
    "- 深度学习，可惜不太会\n",
    "\n",
    "## Python库\n",
    "\n",
    "各种秀操作\n",
    "- 数据格式无缝切换\n",
    "- 写爬虫写Web\n",
    "\n",
    "## 胶水操作\n",
    "\n",
    "各种秀操作\n",
    "- 抄一些官方库的操作\n",
    "\n",
    "## 语法优雅\n",
    "\n",
    "- 日常黑R乱七八糟的语言规则\n",
    "- 黑Matlab和Mathematica的启动速度"
   ],
   "metadata": {
    "collapsed": false,
    "pycharm": {
     "name": "#%% md\n"
    }
   }
  }
 ],
 "metadata": {
  "kernelspec": {
   "display_name": "Python 3",
   "language": "python",
   "name": "python3"
  },
  "language_info": {
   "codemirror_mode": {
    "name": "ipython",
    "version": 2
   },
   "file_extension": ".py",
   "mimetype": "text/x-python",
   "name": "python",
   "nbconvert_exporter": "python",
   "pygments_lexer": "ipython2",
   "version": "2.7.6"
  },
  "pycharm": {
   "stem_cell": {
    "cell_type": "raw",
    "source": [],
    "metadata": {
     "collapsed": false
    }
   }
  }
 },
 "nbformat": 4,
 "nbformat_minor": 0
}